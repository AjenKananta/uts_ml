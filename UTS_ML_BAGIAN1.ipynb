{
  "nbformat": 4,
  "nbformat_minor": 0,
  "metadata": {
    "colab": {
      "provenance": []
    },
    "kernelspec": {
      "name": "python3",
      "display_name": "Python 3"
    },
    "language_info": {
      "name": "python"
    }
  },
  "cells": [
    {
      "cell_type": "code",
      "execution_count": 3,
      "metadata": {
        "colab": {
          "base_uri": "https://localhost:8080/"
        },
        "id": "4PF76qVljgz0",
        "outputId": "98d03667-9b0e-4f39-8935-abbc4418d023"
      },
      "outputs": [
        {
          "output_type": "stream",
          "name": "stdout",
          "text": [
            "Dataset Overview:\n",
            "    Unnamed: 0 Unnamed: 1 Unnamed: 2 Unnamed: 3 Unnamed: 4 Unnamed: 5  \\\n",
            "0        HARGA         LT         LB        JKT        JKM        GRS   \n",
            "1  28000000000       1100        700          5          6        ADA   \n",
            "2  19000000000        824        800          4          4        ADA   \n",
            "3   4700000000        500        400          4          3        ADA   \n",
            "4   4900000000        251        300          5          4        ADA   \n",
            "\n",
            "  Unnamed: 6  \n",
            "0       KOTA  \n",
            "1     JAKSEL  \n",
            "2     JAKSEL  \n",
            "3     JAKSEL  \n",
            "4     JAKSEL  \n",
            "\n",
            "Missing values:\n",
            " Unnamed: 0    0\n",
            "Unnamed: 1    0\n",
            "Unnamed: 2    0\n",
            "Unnamed: 3    0\n",
            "Unnamed: 4    0\n",
            "Unnamed: 5    0\n",
            "Unnamed: 6    0\n",
            "dtype: int64\n"
          ]
        }
      ],
      "source": [
        "import pandas as pd\n",
        "import numpy as np\n",
        "from sklearn.model_selection import train_test_split\n",
        "from sklearn.preprocessing import StandardScaler, PolynomialFeatures\n",
        "from sklearn.linear_model import LinearRegression\n",
        "from sklearn.metrics import mean_squared_error, r2_score\n",
        "import matplotlib.pyplot as plt\n",
        "import seaborn as sns\n",
        "\n",
        "sns.set()\n",
        "\n",
        "url = \"https://github.com/jagustinus/ml-class/raw/main/UTS/harga%20rumah/HARGA%20RUMAH%20JAKSEL.xlsx\"\n",
        "data = pd.read_excel(url)\n",
        "\n",
        "print(\"Dataset Overview:\")\n",
        "print(data.head())\n",
        "print(\"\\nMissing values:\\n\", data.isnull().sum())\n"
      ]
    },
    {
      "cell_type": "code",
      "source": [
        "url = \"https://github.com/jagustinus/ml-class/raw/main/UTS/harga%20rumah/HARGA%20RUMAH%20JAKSEL.xlsx\"\n",
        "data = pd.read_excel(url, header=1)\n",
        "\n",
        "data['GRS'] = data['GRS'].replace({'ADA': 1, 'TIDAK ADA': 0})\n",
        "\n",
        "X = data.drop('HARGA', axis=1)\n",
        "y = data['HARGA']\n",
        "\n",
        "X = pd.get_dummies(X, columns=['KOTA'], drop_first=True)\n",
        "\n",
        "from sklearn.preprocessing import StandardScaler\n",
        "scaler = StandardScaler()\n",
        "X_scaled = scaler.fit_transform(X)\n",
        "\n",
        "from sklearn.model_selection import train_test_split\n",
        "X_train, X_test, y_train, y_test = train_test_split(X_scaled, y, test_size=0.2, random_state=42)\n",
        "\n",
        "print(\"Data preprocessed and ready for modeling!\")\n"
      ],
      "metadata": {
        "colab": {
          "base_uri": "https://localhost:8080/"
        },
        "id": "ORJrGHz0lcV2",
        "outputId": "e7f830fa-1980-4bc1-e166-3b7e8d493bd0"
      },
      "execution_count": 11,
      "outputs": [
        {
          "output_type": "stream",
          "name": "stdout",
          "text": [
            "Data preprocessed and ready for modeling!\n"
          ]
        },
        {
          "output_type": "stream",
          "name": "stderr",
          "text": [
            "<ipython-input-11-df0ffebb81db>:6: FutureWarning: Downcasting behavior in `replace` is deprecated and will be removed in a future version. To retain the old behavior, explicitly call `result.infer_objects(copy=False)`. To opt-in to the future behavior, set `pd.set_option('future.no_silent_downcasting', True)`\n",
            "  data['GRS'] = data['GRS'].replace({'ADA': 1, 'TIDAK ADA': 0})\n"
          ]
        }
      ]
    },
    {
      "cell_type": "code",
      "source": [
        "print(data.head())"
      ],
      "metadata": {
        "colab": {
          "base_uri": "https://localhost:8080/"
        },
        "id": "f_2PHvFUjjC6",
        "outputId": "04ba9a22-c812-400a-e03b-9080c1c11fd4"
      },
      "execution_count": 12,
      "outputs": [
        {
          "output_type": "stream",
          "name": "stdout",
          "text": [
            "         HARGA    LT   LB  JKT  JKM  GRS    KOTA\n",
            "0  28000000000  1100  700    5    6    1  JAKSEL\n",
            "1  19000000000   824  800    4    4    1  JAKSEL\n",
            "2   4700000000   500  400    4    3    1  JAKSEL\n",
            "3   4900000000   251  300    5    4    1  JAKSEL\n",
            "4  28000000000  1340  575    4    5    1  JAKSEL\n"
          ]
        }
      ]
    },
    {
      "cell_type": "code",
      "source": [
        "print(data.tail())"
      ],
      "metadata": {
        "colab": {
          "base_uri": "https://localhost:8080/"
        },
        "id": "WO_3_YO7mJP9",
        "outputId": "ce23576e-20fe-4b8f-a1e2-8ea1007d57ca"
      },
      "execution_count": 13,
      "outputs": [
        {
          "output_type": "stream",
          "name": "stdout",
          "text": [
            "            HARGA   LT   LB  JKT  JKM  GRS    KOTA\n",
            "996   16000000000  488  550    6    5    1  JAKSEL\n",
            "997    4500000000  209  270    4    4    1  JAKSEL\n",
            "998   29000000000  692  400    4    3    0  JAKSEL\n",
            "999    1700000000  102  140    4    3    0  JAKSEL\n",
            "1000   1250000000   63  110    3    3    0  JAKSEL\n"
          ]
        }
      ]
    },
    {
      "cell_type": "code",
      "source": [
        "linear_model = LinearRegression()\n",
        "linear_model.fit(X_train, y_train)\n",
        "\n",
        "y_pred_linear = linear_model.predict(X_test)\n",
        "\n",
        "mse_linear = mean_squared_error(y_test, y_pred_linear)\n",
        "rmse_linear = np.sqrt(mse_linear)\n",
        "r2_linear = r2_score(y_test, y_pred_linear)\n",
        "\n",
        "print(\"Linear Regression Performance:\")\n",
        "print(f\"R-squared: {r2_linear:.4f}\")\n",
        "print(f\"RMSE: {rmse_linear:.4f}\")\n",
        "print(f\"MSE: {mse_linear:.4f}\")\n"
      ],
      "metadata": {
        "colab": {
          "base_uri": "https://localhost:8080/"
        },
        "id": "DuL0gHZ4jmXC",
        "outputId": "b75f5d88-e867-4dc1-9674-bdb65f48168d"
      },
      "execution_count": 14,
      "outputs": [
        {
          "output_type": "stream",
          "name": "stdout",
          "text": [
            "Linear Regression Performance:\n",
            "R-squared: 0.4851\n",
            "RMSE: 8757622760.7092\n",
            "MSE: 76695956418891055104.0000\n"
          ]
        }
      ]
    },
    {
      "cell_type": "code",
      "source": [
        "poly = PolynomialFeatures(degree=2)\n",
        "X_train_poly = poly.fit_transform(X_train)\n",
        "X_test_poly = poly.transform(X_test)\n",
        "\n",
        "poly_model = LinearRegression()\n",
        "poly_model.fit(X_train_poly, y_train)\n",
        "\n",
        "y_pred_poly = poly_model.predict(X_test_poly)\n",
        "\n",
        "mse_poly = mean_squared_error(y_test, y_pred_poly)\n",
        "rmse_poly = np.sqrt(mse_poly)\n",
        "r2_poly = r2_score(y_test, y_pred_poly)\n",
        "\n",
        "print(\"\\nPolynomial Regression Performance:\")\n",
        "print(f\"R-squared: {r2_poly:.4f}\")\n",
        "print(f\"RMSE: {rmse_poly:.4f}\")\n",
        "print(f\"MSE: {mse_poly:.4f}\")\n"
      ],
      "metadata": {
        "colab": {
          "base_uri": "https://localhost:8080/"
        },
        "id": "EEVeh_d5jndc",
        "outputId": "2c96c339-cb31-4e0e-e91a-793037f076d0"
      },
      "execution_count": 15,
      "outputs": [
        {
          "output_type": "stream",
          "name": "stdout",
          "text": [
            "\n",
            "Polynomial Regression Performance:\n",
            "R-squared: 0.4128\n",
            "RMSE: 9352097086.4623\n",
            "MSE: 87461719914615767040.0000\n"
          ]
        }
      ]
    },
    {
      "cell_type": "code",
      "source": [
        "models = pd.DataFrame({\n",
        "    'Model': ['Linear Regression', 'Polynomial Regression'],\n",
        "    'R-squared': [r2_linear, r2_poly],\n",
        "    'RMSE': [rmse_linear, rmse_poly],\n",
        "    'MSE': [mse_linear, mse_poly]\n",
        "})\n",
        "\n",
        "print(\"\\nModel Comparison:\")\n",
        "print(models)\n"
      ],
      "metadata": {
        "colab": {
          "base_uri": "https://localhost:8080/"
        },
        "id": "1KJ-Pk96joXp",
        "outputId": "b77d4d47-4993-40f7-8b45-a3208dfa3368"
      },
      "execution_count": 16,
      "outputs": [
        {
          "output_type": "stream",
          "name": "stdout",
          "text": [
            "\n",
            "Model Comparison:\n",
            "                   Model  R-squared          RMSE           MSE\n",
            "0      Linear Regression   0.485053  8.757623e+09  7.669596e+19\n",
            "1  Polynomial Regression   0.412771  9.352097e+09  8.746172e+19\n"
          ]
        }
      ]
    }
  ]
}